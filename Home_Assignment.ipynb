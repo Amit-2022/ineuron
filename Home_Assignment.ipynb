{
 "cells": [
  {
   "cell_type": "markdown",
   "id": "7790d461",
   "metadata": {},
   "source": [
    "# 1.you have to write a fun which will take string and return a len of it without using a inbuilt fun len"
   ]
  },
  {
   "cell_type": "code",
   "execution_count": 62,
   "id": "6db073e5",
   "metadata": {},
   "outputs": [],
   "source": [
    "def strlen(a):\n",
    "    \"\"\"This function will Return the Length of String without using Standard Function\"\"\"\n",
    "    count=0\n",
    "    try:\n",
    "        if (type(a)==str):\n",
    "            for i in a:\n",
    "                count+=1\n",
    "            return count\n",
    "        else:\n",
    "            return \"This is not valid Input\"\n",
    "    except Exception as e:\n",
    "        return e"
   ]
  },
  {
   "cell_type": "code",
   "execution_count": 63,
   "id": "108bbc5b",
   "metadata": {},
   "outputs": [
    {
     "data": {
      "text/plain": [
       "4"
      ]
     },
     "execution_count": 63,
     "metadata": {},
     "output_type": "execute_result"
    }
   ],
   "source": [
    "strlen(\"amit\")"
   ]
  },
  {
   "cell_type": "markdown",
   "id": "42668d8c",
   "metadata": {},
   "source": [
    "# 2 . write a fun which will be able to print an index of all premitive element which you will pass."
   ]
  },
  {
   "cell_type": "code",
   "execution_count": 66,
   "id": "b57f0277",
   "metadata": {},
   "outputs": [],
   "source": [
    "def indxprint(a):\n",
    "    \"\"\"This function will print the indexes of all primitive elements which users pass\"\"\"\n",
    "    try:\n",
    "        if type(a)==list or type(a) ==tuple or type(a)==str:\n",
    "            for i in range(len(a)):\n",
    "                   print(f\"index of {a[i]} is {i}\")\n",
    "    except Exception as e:\n",
    "        return e"
   ]
  },
  {
   "cell_type": "code",
   "execution_count": 67,
   "id": "805b8c01",
   "metadata": {},
   "outputs": [
    {
     "name": "stdout",
     "output_type": "stream",
     "text": [
      "index of 2 is 0\n",
      "index of 3 is 1\n",
      "index of 4 is 2\n",
      "index of amit is 3\n",
      "index of 98 is 4\n"
     ]
    }
   ],
   "source": [
    "indxprint([2,3,4,\"amit\",98])"
   ]
  },
  {
   "cell_type": "markdown",
   "id": "7b0748fa",
   "metadata": {},
   "source": [
    "# 3 . Write a fun which will take input as a dict and give me out as a list of all the values even in case of 2 level nesting it should work . "
   ]
  },
  {
   "cell_type": "code",
   "execution_count": 33,
   "id": "b2042f2c",
   "metadata": {},
   "outputs": [],
   "source": [
    "def get_values(d):\n",
    "    \"\"\"This function will print the indexes of all primitive elements which users pass\"\"\"\n",
    "    try:\n",
    "        for v in d.values():\n",
    "            if isinstance(v, dict):\n",
    "                yield from get_values(v)\n",
    "            else:\n",
    "                yield v\n",
    "    except Exception as e:\n",
    "        return e\n",
    "\n",
    "a=(list(get_values({\"a\":1,\"b\":2,\"c\":3,\"d\":{\"x\":21,\"y\":22}})))"
   ]
  },
  {
   "cell_type": "code",
   "execution_count": 34,
   "id": "037bf766",
   "metadata": {},
   "outputs": [
    {
     "data": {
      "text/plain": [
       "[1, 2, 3, 21, 22]"
      ]
     },
     "execution_count": 34,
     "metadata": {},
     "output_type": "execute_result"
    }
   ],
   "source": [
    "a"
   ]
  },
  {
   "cell_type": "markdown",
   "id": "7a7f627c",
   "metadata": {},
   "source": [
    "# 4 . write a fun which will take another function as an input and return me an output "
   ]
  },
  {
   "cell_type": "code",
   "execution_count": 37,
   "id": "ca735b6d",
   "metadata": {},
   "outputs": [],
   "source": [
    "def parent_func(func):\n",
    "    \"\"\"This function will take another function as input and will rerun an o/p\"\"\"\n",
    "    return func\n",
    "\n",
    "def child_func():\n",
    "    return \"The Child Function got Invoked\"\n",
    "\n",
    "a=parent_func(child_func())"
   ]
  },
  {
   "cell_type": "code",
   "execution_count": 38,
   "id": "577f3a9f",
   "metadata": {},
   "outputs": [
    {
     "data": {
      "text/plain": [
       "'The Child Function got Invoked'"
      ]
     },
     "execution_count": 38,
     "metadata": {},
     "output_type": "execute_result"
    }
   ],
   "source": [
    "a"
   ]
  },
  {
   "cell_type": "markdown",
   "id": "d4992d8e",
   "metadata": {},
   "source": [
    "# 5. write a function which will take multiple list as a input and give me concatnation of all the element as and output "
   ]
  },
  {
   "cell_type": "code",
   "execution_count": 124,
   "id": "5729e9bf",
   "metadata": {},
   "outputs": [],
   "source": [
    "def list_concatination():\n",
    "    \"\"\"This function will take multiple lists as input and will concatenate all the elements to have a final List\"\"\"\n",
    "    try:\n",
    "        l=[]\n",
    "        while True:\n",
    "            List_Input=(input(\"Please enter the List Elemets separated by ';' ->\"))\n",
    "            final=List_Input.split(\";\")\n",
    "            for i in range(len(final)):\n",
    "                    l.append(eval(final[i]))  \n",
    "            Input_Status=input(\"Do you want to enter another list please press 'Y' to continue Entering List or Press any Key to Stop \")\n",
    "            if Input_Status=='Y' or Input_Status=='y':\n",
    "                    continue\n",
    "            else:\n",
    "                break\n",
    "        return l\n",
    "    except Exception as e:\n",
    "        return e         "
   ]
  },
  {
   "cell_type": "code",
   "execution_count": 126,
   "id": "356c1437",
   "metadata": {},
   "outputs": [
    {
     "name": "stdout",
     "output_type": "stream",
     "text": [
      "Please enter the List Elemets separated by ';' ->1;2;3;4;[\"a\",78,89]\n",
      "Do you want to enter another list please press 'Y' to continue Entering List or Press any Key to Stop y\n",
      "Please enter the List Elemets separated by ';' ->88;78;\"h\"\n",
      "Do you want to enter another list please press 'Y' to continue Entering List or Press any Key to Stop n\n"
     ]
    },
    {
     "data": {
      "text/plain": [
       "[1, 2, 3, 4, ['a', 78, 89], 88, 78, 'h']"
      ]
     },
     "execution_count": 126,
     "metadata": {},
     "output_type": "execute_result"
    }
   ],
   "source": [
    "list_concatination()"
   ]
  },
  {
   "cell_type": "code",
   "execution_count": 129,
   "id": "a86ea77a",
   "metadata": {},
   "outputs": [],
   "source": [
    "def list_con(*args):\n",
    "    \"\"\"This function will take multiple lists as input and will concatenate all the elements to have a final List\"\"\"\n",
    "    try:\n",
    "        l=[]\n",
    "        for i in args:\n",
    "            if type(i)==list:\n",
    "                l=l+i\n",
    "        return l\n",
    "    except Exception as e:\n",
    "        return e\n",
    "    "
   ]
  },
  {
   "cell_type": "code",
   "execution_count": 130,
   "id": "e651adec",
   "metadata": {},
   "outputs": [
    {
     "data": {
      "text/plain": [
       "[1, 2, 3, 4, 'a', 'b', 'c', (4+9j), [88, 89, 56, 'x'], 'h', 65]"
      ]
     },
     "execution_count": 130,
     "metadata": {},
     "output_type": "execute_result"
    }
   ],
   "source": [
    "list_con([1,2,3,4],[\"a\",\"b\",\"c\",4+9j],[[88,89,56,\"x\"],\"h\",65])"
   ]
  },
  {
   "cell_type": "markdown",
   "id": "0aa530c4",
   "metadata": {},
   "source": [
    "# 6 . write a function which will be able to take a list as an input return an index of each element like a inbuilt index function but even if we have repetative element it should return index"
   ]
  },
  {
   "cell_type": "code",
   "execution_count": 1,
   "id": "d9929221",
   "metadata": {},
   "outputs": [],
   "source": [
    "def list_duplicates_of(seq,item):\n",
    "    \"\"\"This Function will check the repetitive Elemets an d will return the list index\"\"\"\n",
    "    start_at = -1\n",
    "    locs = []\n",
    "    while True:\n",
    "        try:\n",
    "            loc = seq.index(item,start_at+1)\n",
    "        except ValueError:\n",
    "            break\n",
    "        else:\n",
    "            locs.append(loc)\n",
    "            start_at = loc\n",
    "    return locs\n",
    "\n",
    "def list_index(l):\n",
    "    \n",
    "    \"\"\"This Function will Accept a List as an Input and will Return the Index of elements even we have have repetitive Elemets\"\"\"\n",
    "    try:\n",
    "        l1=[]\n",
    "        l2=[]\n",
    "        if type(l)==list:\n",
    "            l2=list(set(l))\n",
    "            for i in range(len(l2)):\n",
    "                a=list_duplicates_of(l,l2[i])\n",
    "                l1.append(f\"index of {l2[i]} is {a} \")\n",
    "            return l1\n",
    "        else:\n",
    "            return \"Invalid Input paased while calling the Input\"\n",
    "    except Exception as e:\n",
    "        return e\n",
    "                "
   ]
  },
  {
   "cell_type": "code",
   "execution_count": 2,
   "id": "782f30d1",
   "metadata": {},
   "outputs": [
    {
     "data": {
      "text/plain": [
       "['index of 1 is [0, 6] ',\n",
       " 'index of 2 is [1, 5] ',\n",
       " 'index of 3 is [2, 4] ',\n",
       " 'index of 4 is [3] ']"
      ]
     },
     "execution_count": 2,
     "metadata": {},
     "output_type": "execute_result"
    }
   ],
   "source": [
    "list_index([1,2,3,4,3,2,1])"
   ]
  },
  {
   "cell_type": "markdown",
   "id": "e979b6fd",
   "metadata": {},
   "source": [
    "# 7 . Write a function which will whould return list of all the file name from a directory . "
   ]
  },
  {
   "cell_type": "code",
   "execution_count": 6,
   "id": "e5168d19",
   "metadata": {},
   "outputs": [],
   "source": [
    "\n",
    "def list_file(directory):\n",
    "    \"\"\"This Function will list down all the folders of a directory \"\"\"\n",
    "    try:\n",
    "        import os\n",
    "        return os.listdir(directory)\n",
    "    except Exception as e:\n",
    "        return e"
   ]
  },
  {
   "cell_type": "code",
   "execution_count": 9,
   "id": "8205b6e3",
   "metadata": {},
   "outputs": [
    {
     "data": {
      "text/plain": [
       "['.conda',\n",
       " '.condarc',\n",
       " '.continuum',\n",
       " '.ipynb_checkpoints',\n",
       " '.ipython',\n",
       " '.jupyter',\n",
       " '3D Objects',\n",
       " 'anaconda3',\n",
       " 'AppData',\n",
       " 'Application Data',\n",
       " 'Contacts',\n",
       " 'Cookies',\n",
       " 'Documents',\n",
       " 'Downloads',\n",
       " 'Favorites',\n",
       " 'FSDS_ASSIGNMENT_1.ipynb',\n",
       " 'FSDS_ASSIGNMENT_2.ipynb',\n",
       " 'Function and holiday task.ipynb',\n",
       " 'Home_Assignment.ipynb',\n",
       " 'IntelGraphicsProfiles',\n",
       " 'Links',\n",
       " 'Local Settings',\n",
       " 'Music',\n",
       " 'My Documents',\n",
       " 'NetHood',\n",
       " 'NTUSER.DAT',\n",
       " 'ntuser.dat.LOG1',\n",
       " 'ntuser.dat.LOG2',\n",
       " 'NTUSER.DAT{1c2b59c6-c5f5-11eb-bacb-000d3a96488e}.TM.blf',\n",
       " 'NTUSER.DAT{1c2b59c6-c5f5-11eb-bacb-000d3a96488e}.TMContainer00000000000000000001.regtrans-ms',\n",
       " 'NTUSER.DAT{1c2b59c6-c5f5-11eb-bacb-000d3a96488e}.TMContainer00000000000000000002.regtrans-ms',\n",
       " 'ntuser.ini',\n",
       " 'OneDrive',\n",
       " 'PrintHood',\n",
       " 'PycharmProjects',\n",
       " 'Python basic (3) (1).ipynb',\n",
       " 'Recent',\n",
       " 'sample.txt',\n",
       " 'sample1.txt',\n",
       " 'Saved Games',\n",
       " 'Searches',\n",
       " 'SendTo',\n",
       " 'Start Menu',\n",
       " 'Templates',\n",
       " 'textfile.txt',\n",
       " 'Tracing',\n",
       " 'Untitled.ipynb',\n",
       " 'Untitled1.ipynb',\n",
       " 'Untitled10.ipynb',\n",
       " 'Untitled2.ipynb',\n",
       " 'Untitled3.ipynb',\n",
       " 'Untitled4.ipynb',\n",
       " 'Untitled48.ipynb',\n",
       " 'Untitled5.ipynb',\n",
       " 'Untitled6.ipynb',\n",
       " 'Untitled7.ipynb',\n",
       " 'Untitled8.ipynb',\n",
       " 'Untitled9.ipynb',\n",
       " 'Videos',\n",
       " '__pycache__']"
      ]
     },
     "execution_count": 9,
     "metadata": {},
     "output_type": "execute_result"
    }
   ],
   "source": [
    "list_file (\"C:/Users/amitp\")"
   ]
  },
  {
   "cell_type": "markdown",
   "id": "cd04b0ac",
   "metadata": {},
   "source": [
    "# 8  . write a function which will be able to show your system configuration . "
   ]
  },
  {
   "cell_type": "code",
   "execution_count": 5,
   "id": "8a128b82",
   "metadata": {},
   "outputs": [],
   "source": [
    "def sys_config():\n",
    "    \"\"\"This function will return the Generic System Configurations\"\"\"\n",
    "    try:\n",
    "        import platform\n",
    "        return platform.uname()\n",
    "    except Exception as e:\n",
    "        return e\n",
    "    "
   ]
  },
  {
   "cell_type": "code",
   "execution_count": 6,
   "id": "a34d2b09",
   "metadata": {},
   "outputs": [
    {
     "data": {
      "text/plain": [
       "uname_result(system='Windows', node='LAPTOP-9QL1CTOD', release='10', version='10.0.22000', machine='AMD64')"
      ]
     },
     "execution_count": 6,
     "metadata": {},
     "output_type": "execute_result"
    }
   ],
   "source": [
    "sys_config()"
   ]
  },
  {
   "cell_type": "markdown",
   "id": "614b925a",
   "metadata": {},
   "source": [
    "# 9 . write a function which will be able to show date and time  . "
   ]
  },
  {
   "cell_type": "code",
   "execution_count": 21,
   "id": "dba574ee",
   "metadata": {},
   "outputs": [],
   "source": [
    "def cur_date_time():\n",
    "    \"\"\"This function will retrun the current Date with Time\"\"\"\n",
    "    try:\n",
    "        import subprocess as sb\n",
    "        from subprocess import time\n",
    "        now = time.localtime()\n",
    "        return now\n",
    "    except Exception as e:\n",
    "        return e"
   ]
  },
  {
   "cell_type": "code",
   "execution_count": 22,
   "id": "16bca2c3",
   "metadata": {},
   "outputs": [
    {
     "data": {
      "text/plain": [
       "time.struct_time(tm_year=2022, tm_mon=1, tm_mday=28, tm_hour=15, tm_min=52, tm_sec=37, tm_wday=4, tm_yday=28, tm_isdst=0)"
      ]
     },
     "execution_count": 22,
     "metadata": {},
     "output_type": "execute_result"
    }
   ],
   "source": [
    "cur_date_time()"
   ]
  },
  {
   "cell_type": "markdown",
   "id": "cd750ee5",
   "metadata": {},
   "source": [
    "# 10 . write a function which will be able to read a image file and show it to you ."
   ]
  },
  {
   "cell_type": "code",
   "execution_count": 32,
   "id": "4d2c2afb",
   "metadata": {},
   "outputs": [],
   "source": [
    "def read_image(file_name):\n",
    "    \"\"\"This function will read images and will show here in prompt\"\"\"\n",
    "    try:\n",
    "        from PIL import Image\n",
    "        #file_name=input(\"Please enter the file name along with Extension\")\n",
    "        img=Image.open(file_name,'r')\n",
    "        return display(img)\n",
    "    except Exception as e:\n",
    "        return e"
   ]
  },
  {
   "cell_type": "code",
   "execution_count": 33,
   "id": "954a7914",
   "metadata": {},
   "outputs": [
    {
     "data": {
      "image/png": "[encoded data removed]",
      "text/plain": [
       "<PIL.JpegImagePlugin.JpegImageFile image mode=RGB size=225x225 at 0x1D48EC941F0>"
      ]
     },
     "metadata": {},
     "output_type": "display_data"
    }
   ],
   "source": [
    "read_image('ineuron.JFIF')"
   ]
  },
  {
   "cell_type": "markdown",
   "id": "0d95c00f",
   "metadata": {},
   "source": [
    "# 11 . write a function which can read video file and play for you . "
   ]
  },
  {
   "cell_type": "code",
   "execution_count": 1,
   "id": "c11d91f6",
   "metadata": {},
   "outputs": [],
   "source": [
    "def play_videoFile(filename):\n",
    "    \"\"\"This Function will read and play video\"\"\"\n",
    "    try:\n",
    "        import cv2\n",
    "        import numpy as np \n",
    "        cap = cv2.VideoCapture(filename)\n",
    "        while(cap.isOpened()):\n",
    "            ret, frame = cap.read()\n",
    "            frame=cv2.resize(frame,(1200,700))\n",
    "            cv2.imshow(\"Video\",frame)\n",
    "            if cv2.waitKey(25) & 0xFF == ord('q'):\n",
    "                break# Break the loop\n",
    "        cap.release()\n",
    "        cv2.destroyAllWindows()\n",
    "    except Exception as e:\n",
    "        return e"
   ]
  },
  {
   "cell_type": "code",
   "execution_count": 2,
   "id": "0ae4ed54",
   "metadata": {},
   "outputs": [],
   "source": [
    "play_videoFile('test.mp4')"
   ]
  },
  {
   "cell_type": "markdown",
   "id": "231f3c59",
   "metadata": {},
   "source": [
    "# 12  . write a function which can move a file from one directory to another directory . "
   ]
  },
  {
   "cell_type": "code",
   "execution_count": 1,
   "id": "f15d9a5d",
   "metadata": {},
   "outputs": [],
   "source": [
    "def file_move(source_path,dest_path):\n",
    "    \"\"\"This function will move file source to destination\"\"\"\n",
    "    try:\n",
    "        import shutil\n",
    "        return shutil.move(source_path, dest_path)\n",
    "    except Exception as e:\n",
    "        return e"
   ]
  },
  {
   "cell_type": "code",
   "execution_count": 2,
   "id": "d981380b",
   "metadata": {},
   "outputs": [
    {
     "data": {
      "text/plain": [
       "'E:/Ineuron\\\\textfile.txt'"
      ]
     },
     "execution_count": 2,
     "metadata": {},
     "output_type": "execute_result"
    }
   ],
   "source": [
    "file_move('C:/Users/amitp/textfile.txt','E:/Ineuron')"
   ]
  },
  {
   "cell_type": "markdown",
   "id": "d66eed59",
   "metadata": {},
   "source": [
    "# 13 . write a function which will be able to shutdonw your system . "
   ]
  },
  {
   "cell_type": "code",
   "execution_count": 2,
   "id": "7b635a3d",
   "metadata": {},
   "outputs": [],
   "source": [
    "def shut_down():\n",
    "    \"\"\"Thsi function will shut down the system\"\"\"\n",
    "    try:\n",
    "        import os\n",
    "        shutdown = input(\"Do you wish to shutdown your computer ? (yes / no): \")\n",
    "        if shutdown == 'no':\n",
    "            exit()\n",
    "        else:\n",
    "            pass\n",
    "            #os.system(\"shutdown /s /t 1\")\n",
    "    except Exception as e:\n",
    "        return e\n",
    "    "
   ]
  },
  {
   "cell_type": "code",
   "execution_count": 3,
   "id": "481975e3",
   "metadata": {},
   "outputs": [
    {
     "name": "stdout",
     "output_type": "stream",
     "text": [
      "Do you wish to shutdown your computer ? (yes / no): no\n"
     ]
    }
   ],
   "source": [
    "shut_down()"
   ]
  },
  {
   "cell_type": "markdown",
   "id": "d66af31e",
   "metadata": {},
   "source": [
    "# 14 . write a function which will be able to access your mail . "
   ]
  },
  {
   "cell_type": "code",
   "execution_count": 7,
   "id": "1477c61f",
   "metadata": {},
   "outputs": [],
   "source": [
    "def mail_access(user_id,pwd,mail=0):\n",
    "    \"\"\"This function will access the given mail address\"\"\"\n",
    "    try:\n",
    "        import easyimap as em\n",
    "        server=em.connect('imap.gmail.com',user_id,pwd) #IMAP Server (Incoming Messages)\n",
    "        mail=server.mail(server.listids()[mail]) #fetching the mail for latest ids\n",
    "        return (mail.from_addr,mail.date,mail.title,mail.body,mail.attachments)\n",
    "    except Exception as e:\n",
    "        return e"
   ]
  },
  {
   "cell_type": "code",
   "execution_count": 9,
   "id": "3c47e4b9",
   "metadata": {},
   "outputs": [
    {
     "data": {
      "text/plain": [
       "('Google Community Team <googlecommunityteam-noreply@google.com>',\n",
       " 'Fri, 28 Jan 2022 05:16:13 -0800',\n",
       " 'Your Google Account is live – now help your business grow',\n",
       " '\\r\\n\\r\\n\\r\\n\\r\\n\\r\\n\\r\\n\\r\\n\\r\\n\\r\\n\\r\\n\\r\\nineuron, welcome to Google\\r\\n\\r\\nNow you can start growing your business.\\r\\n\\r\\nManage my profile  \\r\\n<https://business.google.com/create?en&gmbsrc=IN-en-et-em-z-gmb-z-l~wlcem%7Ccreate&trk=https%3A%2F%2Fnotifications.google.com%2Fg%2Fp%2FAD-FnEyJfOUwOXZCaPZgnKdWly5RS58JlKx79RTR8eGVcD_UgJaBvKU6QYc-fhhZYApStQfZSZryjVKJ6hhm-sRCeZEMv_bNZMXGkk2q4xYuSjXEOA>\\r\\n\\r\\nCongratulations – your account is live and ready for action. You now have  \\r\\naccess to a range of tools that can help your business reach more people.\\r\\n\\r\\nWith Google My Business, you can create a free Business Profile that helps  \\r\\nyou stand out on Google Maps and Search.\\r\\n\\r\\n From replying to reviews to sharing photos, there are lots of ways to  \\r\\nconnect with customers and keep them coming back.\\r\\n\\r\\nManage my profile  \\r\\n<https://business.google.com/create?en&gmbsrc=IN-en-et-em-z-gmb-z-l~wlcem%7Ccreate&trk=https%3A%2F%2Fnotifications.google.com%2Fg%2Fp%2FAD-FnEwLo4gqC7BReFhvCEi7A4ZjEAeBq224YNH1nMViPO5vTV1chi1kWeEnF1g5-Z-bRfpsNy3430FhuPYAkqM1PYRiN-mZxGR3hacyZUBXcIqH2g>\\r\\n\\r\\nGet started with your Google Account\\r\\n\\r\\nStart your journey by exploring your account settings.\\r\\n\\r\\nGet started  \\r\\n<https://business.google.com/create?en&gmbsrc=IN-en-et-em-z-gmb-z-l~wlcem%7Ccreate&trk=https%3A%2F%2Fnotifications.google.com%2Fg%2Fp%2FAD-FnEzmEU2X39Mthz4AhCu0iL1NmYGJug1q4BEglPxOUyViDiFYzCbadjhYe8ogJzehGEGBrrN5GgYMgEhFYQOgZwWpxAY>\\r\\n\\r\\nFind answers\\r\\n\\r\\nVisit the Help  \\r\\nCenter<https://notifications.google.com/g/p/AD-FnEzC-VFRYUlV_G-6JR-TVtiRKAT5IzCnGh_Cgh9cq6vOP5Av3mdgFLfZUK0t9C5BkGaIMqv3An50QwNisVA4_IiyxueM4WiwCfOkwEF9PjSB6W7xkxuOdI1PDt64fqmuTGdTaCoZNnYAtJn4mQbR7DcrwboCjbbcF4s>  \\r\\nto learn more about your Google Account.\\r\\n\\r\\n(c) 2022 Google LLC 1600\\r\\nAmphitheatre Parkway,\\r\\nMountain View, CA 94043\\r\\nwww.google.com  \\r\\n<https://notifications.google.com/g/p/AD-FnEzPH4p-oxyAYOen87XnADrJOQ1CUBpMSixBSAVPQssGu0HbnZfTgBTiFeE3QBRnS7B9426lKlRS2H8qUVfI5yn_qJH4ZFxODuaiFg>\\r\\n\\r\\nThis email was sent to you because you created a Google Account for your  \\r\\nbusiness.\\r\\n',\n",
       " [])"
      ]
     },
     "execution_count": 9,
     "metadata": {},
     "output_type": "execute_result"
    }
   ],
   "source": [
    "mail_access('ineuronai4@gmail.com','ineuron1234',1)"
   ]
  },
  {
   "cell_type": "markdown",
   "id": "7eeb96d7",
   "metadata": {},
   "source": [
    "# 15 . write a func by which i can send a mail to anyone"
   ]
  },
  {
   "cell_type": "code",
   "execution_count": 1,
   "id": "d4aaebcc",
   "metadata": {},
   "outputs": [],
   "source": [
    "def mail_send(user,pwd):\n",
    "    \"\"\"This function will send the given mail address\"\"\"\n",
    "    try:\n",
    "        import smtplib as sm\n",
    "        server=sm.SMTP(\"smtp.gmail.com\",587)\n",
    "        server.starttls()\n",
    "        server.login(user,pwd)\n",
    "        rx_mail=input(\"Enter receiver mail id: \")\n",
    "        msg=input(\"Enter the message body \")\n",
    "        server.sendmail(user,rx_mail,msg)\n",
    "        server.close()\n",
    "        return \"Mail Sent\"\n",
    "    except Exception as e:\n",
    "        return e"
   ]
  },
  {
   "cell_type": "code",
   "execution_count": 3,
   "id": "0652ab2e",
   "metadata": {},
   "outputs": [
    {
     "name": "stdout",
     "output_type": "stream",
     "text": [
      "Enter receiver mail id: ineuronai4@gmail.com\n",
      "Enter the message body This is a test mail from Python\n"
     ]
    },
    {
     "data": {
      "text/plain": [
       "'Mail Sent'"
      ]
     },
     "execution_count": 3,
     "metadata": {},
     "output_type": "execute_result"
    }
   ],
   "source": [
    "mail_send('ineuronai4@gmail.com','ineuron1234')"
   ]
  },
  {
   "cell_type": "markdown",
   "id": "dc8f4e66",
   "metadata": {},
   "source": [
    "# 16. write a func to read a complete PDf file . "
   ]
  },
  {
   "cell_type": "code",
   "execution_count": 10,
   "id": "8b300493",
   "metadata": {},
   "outputs": [],
   "source": [
    "def read_pdf(file_name):\n",
    "    \"\"\"This func will read complete pdf\"\"\"\n",
    "    try:\n",
    "        import PyPDF2\n",
    "        file = open(file_name,'rb')\n",
    "        pdf_reader = PyPDF2.PdfFileReader(file)\n",
    "        a=pdf_reader.getNumPages()\n",
    "        for i in range(a):\n",
    "            page = pdf_reader.getPage(i)\n",
    "            print(page.extractText())\n",
    "        file.close()\n",
    "    except Exception as e:\n",
    "        return e"
   ]
  },
  {
   "cell_type": "code",
   "execution_count": 11,
   "id": "2dd1a1e9",
   "metadata": {},
   "outputs": [
    {
     "name": "stdout",
     "output_type": "stream",
     "text": [
      "\n",
      "\n"
     ]
    }
   ],
   "source": [
    "read_pdf(\"C:/Users/amitp/Assignment1.pdf\")"
   ]
  },
  {
   "cell_type": "markdown",
   "id": "5ec3c56a",
   "metadata": {},
   "source": [
    "# 17. write a function to read a word file . "
   ]
  },
  {
   "cell_type": "code",
   "execution_count": 34,
   "id": "d6832524",
   "metadata": {},
   "outputs": [],
   "source": [
    "def read_word(file):\n",
    "    \"\"\"This function will read word files\"\"\"\n",
    "    try:\n",
    "        import docx2txt\n",
    "        my_text=docx2txt.process(file)\n",
    "        return my_text\n",
    "    except Exception as e:\n",
    "        return e"
   ]
  },
  {
   "cell_type": "code",
   "execution_count": 35,
   "id": "2a930ca4",
   "metadata": {},
   "outputs": [
    {
     "data": {
      "text/plain": [
       "'1. How do you distinguish between shutil.copy() and shutil.copytree()?\\n\\n2. What function is used to rename files??\\n\\n3. What is the difference between the delete functions in the send2trash and shutil modules?\\n\\n4.ZipFile objects have a close() method just like File objects’ close() method. What ZipFile method is equivalent to File objects’ open() method?\\n\\n5. Create a programme that searches a folder tree for files with a certain file extension (such as .pdf or .jpg). Copy these files from whatever location they are in to a new folder.'"
      ]
     },
     "execution_count": 35,
     "metadata": {},
     "output_type": "execute_result"
    }
   ],
   "source": [
    "read_word(\"Assignment_10.docx\")"
   ]
  },
  {
   "cell_type": "markdown",
   "id": "37dc66f5",
   "metadata": {},
   "source": [
    "# 18 . write a function which can help you to filter only word file from a directory . "
   ]
  },
  {
   "cell_type": "code",
   "execution_count": 37,
   "id": "2e481ea7",
   "metadata": {},
   "outputs": [],
   "source": [
    "def word_file_Search(dir_name):\n",
    "    \"\"\"This functiona will filter out all the word files\"\"\"\n",
    "    try:\n",
    "        import os\n",
    "        for file in os.listdir(dir_name):\n",
    "            if file.endswith((\".doc\",\".docx\")):\n",
    "                print(os.path.join(file))\n",
    "    except Exception as e:\n",
    "        return e"
   ]
  },
  {
   "cell_type": "code",
   "execution_count": 38,
   "id": "9d152770",
   "metadata": {},
   "outputs": [
    {
     "name": "stdout",
     "output_type": "stream",
     "text": [
      "Assignment_10.docx\n"
     ]
    }
   ],
   "source": [
    "word_file_Search(\"C://Users//amitp\")"
   ]
  },
  {
   "cell_type": "markdown",
   "id": "16851bf7",
   "metadata": {},
   "source": [
    "# 19 . write a function by which you can print an ip address of your system . "
   ]
  },
  {
   "cell_type": "code",
   "execution_count": 42,
   "id": "8e62ae41",
   "metadata": {},
   "outputs": [],
   "source": [
    "def capture_ip():\n",
    "    \"\"\"This function will capture ip address of your system\"\"\"\n",
    "    try:\n",
    "        import socket\n",
    "        host=socket.gethostname()\n",
    "        ip=socket.gethostbyname(host)\n",
    "        return host,ip\n",
    "    except Exception as e:\n",
    "        return e"
   ]
  },
  {
   "cell_type": "code",
   "execution_count": 43,
   "id": "5185288f",
   "metadata": {},
   "outputs": [
    {
     "data": {
      "text/plain": [
       "('LAPTOP-9QL1CTOD', '192.168.43.118')"
      ]
     },
     "execution_count": 43,
     "metadata": {},
     "output_type": "execute_result"
    }
   ],
   "source": [
    "capture_ip()"
   ]
  },
  {
   "cell_type": "markdown",
   "id": "5c8c4851",
   "metadata": {},
   "source": [
    "# 20 . write a function by which you will be able to append two PDF files . "
   ]
  },
  {
   "cell_type": "code",
   "execution_count": 5,
   "id": "6603d8e4",
   "metadata": {},
   "outputs": [],
   "source": [
    "def mergepdf(pdf1,pdf2,outfile_path):\n",
    "    \"\"\"This functional will merge two pdf files\"\"\"\n",
    "    try:\n",
    "        import PyPDF2\n",
    "        from PyPDF2 import PdfFileMerger\n",
    "        files =[pdf1,pdf2]\n",
    "        merger=PdfFileMerger()\n",
    "        for pdf in files:\n",
    "            merger.append(open(pdf,'rb'))\n",
    "        with open(outfile_path,\"wb\") as fileout:\n",
    "            merger.write(fileout)\n",
    "        return \"Merged successfully\"\n",
    "    except Exception as e:\n",
    "        return e"
   ]
  },
  {
   "cell_type": "code",
   "execution_count": 8,
   "id": "45d11b43",
   "metadata": {},
   "outputs": [
    {
     "data": {
      "text/plain": [
       "'Merged successfully'"
      ]
     },
     "execution_count": 8,
     "metadata": {},
     "output_type": "execute_result"
    }
   ],
   "source": [
    "mergepdf(\"C:/Users/amitp/Assignment1.pdf\",\"C:/Users/amitp/Assignment_2.pdf\",\"C:/Users/amitp/result.pdf\")"
   ]
  },
  {
   "cell_type": "code",
   "execution_count": null,
   "id": "05b04972",
   "metadata": {},
   "outputs": [],
   "source": []
  }
 ],
 "metadata": {
  "kernelspec": {
   "display_name": "Python 3 (ipykernel)",
   "language": "python",
   "name": "python3"
  },
  "language_info": {
   "codemirror_mode": {
    "name": "ipython",
    "version": 3
   },
   "file_extension": ".py",
   "mimetype": "text/x-python",
   "name": "python",
   "nbconvert_exporter": "python",
   "pygments_lexer": "ipython3",
   "version": "3.9.7"
  }
 },
 "nbformat": 4,
 "nbformat_minor": 5
}
